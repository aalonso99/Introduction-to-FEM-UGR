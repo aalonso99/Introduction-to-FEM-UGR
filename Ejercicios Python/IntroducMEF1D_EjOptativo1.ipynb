{
 "cells": [
  {
   "cell_type": "markdown",
   "metadata": {},
   "source": [
    "# Introducción al MEF en una dimensión\n",
    "\n",
    "*Alejandro Alonso Membrilla* y *Pilar Navarro Ramírez*"
   ]
  },
  {
   "cell_type": "markdown",
   "metadata": {},
   "source": [
    "**Ejercicio (optativo):** Estudiar y/o implementar también el código correspondiente a la resolución numérica aproximada de un problema autoadjunto general\n",
    "\n",
    "$$\\mathcal{L}(y)\\equiv -(p(x)y')'+q(x)y= f(x), \\; x\\in [a,b]$$\n",
    "\n",
    "para cierta función $f(x)$ continua en dicho intervalo, (con funciones $p\\in\\mathcal{C}^1$ y $q\\in\\mathcal{C}^0$) y con diferentes condiciones de contorno de tipo Dirichlet, Neumann y/o Robin, en cada uno de los extremos del intervalo."
   ]
  },
  {
   "cell_type": "code",
   "execution_count": 1,
   "metadata": {},
   "outputs": [],
   "source": [
    "import numpy as np # Importamos el módulo NumPy con el pseudónimo np\n",
    "import sympy as sp # Importamos el módulo SymPy con el pseudónimo sp\n",
    "import math\n",
    "%matplotlib inline \n",
    "import matplotlib.pyplot as plt"
   ]
  },
  {
   "cell_type": "markdown",
   "metadata": {},
   "source": [
    "### Definición de los E.F. y de las funciones base:"
   ]
  },
  {
   "cell_type": "code",
   "execution_count": 2,
   "metadata": {},
   "outputs": [],
   "source": [
    "def l1(t):\n",
    "    \"\"\"primera func. de base del E.F. de Lagrange P1 en 1D\"\"\"\n",
    "    return 1-t\n",
    "\n",
    "def l2(t):\n",
    "    \"\"\"segunda func. de base del E.F. de Lagrange P1 en 1D\"\"\"\n",
    "    return t\n",
    "\n",
    "def dl1(t):\n",
    "    \"\"\"derivada de la primera func. de base del E.F. de Lagrange P1 en 1D\"\"\"\n",
    "    return -1\n",
    "\n",
    "def dl2(t):\n",
    "    \"\"\"derivada de la segunda func. de base del E.F. de Lagrange P1 en 1D\"\"\"\n",
    "    return 1\n",
    "\n",
    "def Finv(z,a,b):\n",
    "    \"\"\"afinidad entre cada subintervalo de la partición \n",
    "        y el intervalo unidad\"\"\"\n",
    "    return (z-a)/(b-a)\n",
    "\n",
    "def dFinv(z,a,b):\n",
    "    \"\"\" derivada de la afinidad Finv\"\"\"\n",
    "    return 1/(b-a)"
   ]
  },
  {
   "cell_type": "code",
   "execution_count": 3,
   "metadata": {},
   "outputs": [],
   "source": [
    "def wi(z,x,i):  # en los nodos interiores\n",
    "    \"\"\"funciones de base del E.F. de Lagrange P1 unidimensional\"\"\"\n",
    "    if (x[i-1]<=z)*(z<=x[i]):\n",
    "        valor = l2(Finv(z,x[i-1],x[i]))\n",
    "    elif (x[i]<=z)*(z<=x[i+1]):  \n",
    "        valor = l1(Finv(z,x[i],x[i+1]))\n",
    "    else:\n",
    "        valor = 0\n",
    "    return valor\n",
    "\n",
    "def w0(z,x):  # en el extremo izquierdo del intervalo\n",
    "    \"\"\"funcion de base del E.F. de Lagrange P1 unidimensional \n",
    "    en el extremo izquierdo\"\"\"\n",
    "    if (x[0]<=z)*(z<=x[1]):\n",
    "        valor = l1(Finv(z,x[0],x[1]))\n",
    "    else:\n",
    "        valor = 0\n",
    "    return valor\n",
    "\n",
    "def wn(z,x):  # en el extremo derecho del intervalo\n",
    "    \"\"\"funcion de base del E.F. de Lagrange P1 unidimensional \n",
    "    en el extremo derecho\"\"\"\n",
    "    # recuérdese que x[-1] y x[-2] indican respectivamente el último y penúltimo nodos\n",
    "    if (x[-2]<=z)*(z<=x[-1]):  \n",
    "        valor = l2(Finv(z,x[-2],x[-1])) \n",
    "    else:\n",
    "        valor = 0\n",
    "    return valor"
   ]
  },
  {
   "cell_type": "markdown",
   "metadata": {},
   "source": [
    "### Definición del problema:"
   ]
  },
  {
   "cell_type": "code",
   "execution_count": 4,
   "metadata": {},
   "outputs": [
    {
     "data": {
      "text/latex": [
       "$\\displaystyle - p{\\left(z \\right)} \\frac{d^{2}}{d z^{2}} y{\\left(z \\right)} + q{\\left(z \\right)} y{\\left(z \\right)} - \\frac{d}{d z} p{\\left(z \\right)} \\frac{d}{d z} y{\\left(z \\right)}$"
      ],
      "text/plain": [
       "-p(z)*Derivative(y(z), (z, 2)) + q(z)*y(z) - Derivative(p(z), z)*Derivative(y(z), z)"
      ]
     },
     "execution_count": 4,
     "metadata": {},
     "output_type": "execute_result"
    }
   ],
   "source": [
    "z = sp.Symbol('z')\n",
    "y = sp.Function('y')\n",
    "p = sp.Function('p')\n",
    "q = sp.Function('q')\n",
    "def L(y,z,p,q): # usaremos la variable z como variable independiente\n",
    "    \"\"\"operador diferencial que define la ec. dif.\"\"\"\n",
    "    return -sp.diff(p(z)*sp.diff(y(z),z,1), z, 1)+q(z)*y(z)\n",
    "L(y,z,p,q)  "
   ]
  },
  {
   "cell_type": "code",
   "execution_count": 5,
   "metadata": {},
   "outputs": [
    {
     "data": {
      "text/latex": [
       "$\\displaystyle - p{\\left(z \\right)} \\frac{d^{2}}{d z^{2}} y{\\left(z \\right)} + q{\\left(z \\right)} y{\\left(z \\right)} - \\frac{d}{d z} p{\\left(z \\right)} \\frac{d}{d z} y{\\left(z \\right)} = f{\\left(z \\right)}$"
      ],
      "text/plain": [
       "Eq(-p(z)*Derivative(y(z), (z, 2)) + q(z)*y(z) - Derivative(p(z), z)*Derivative(y(z), z), f(z))"
      ]
     },
     "execution_count": 5,
     "metadata": {},
     "output_type": "execute_result"
    }
   ],
   "source": [
    "f = sp.Function('f')\n",
    "\n",
    "def ecuacion(y,z,p,q,f):\n",
    "    return sp.Eq(L(y,z,p,q),f(z)) #  ec. diferencial que estamos considerando \n",
    "\n",
    "ecuacion(y,z,p,q,f)"
   ]
  },
  {
   "cell_type": "markdown",
   "metadata": {},
   "source": [
    "### Resolución del Problema:"
   ]
  },
  {
   "cell_type": "code",
   "execution_count": 6,
   "metadata": {},
   "outputs": [],
   "source": [
    "nx= 50;  # número de subintervalos de igual longitud a considerar\n",
    "a = 0; b = 10; # intervalo de trabajo\n",
    "x = np.linspace(a,b,nx+1)  # partición"
   ]
  },
  {
   "cell_type": "code",
   "execution_count": 7,
   "metadata": {},
   "outputs": [],
   "source": [
    "#matriz local\n",
    "xL, xR = sp.symbols('xL,xR')\n",
    "a00 = sp.integrate((dl1(Finv(z,xL,xR))*dFinv(z,xL,xR))**2,[z,xL,xR])\n",
    "a01 = sp.integrate(dl1(Finv(z,xL,xR))*dl2(Finv(z,xL,xR))*dFinv(z,xL,xR)**2,[z,xL,xR])\n",
    "a11 = sp.integrate((dl2(Finv(z,xL,xR))*dFinv(z,xL,xR))**2,[z,xL,xR])\n",
    "\n",
    "Agen = sp.Matrix([[a00,a01],[a01,a11]])\n",
    "Agen = sp.simplify(Agen)\n",
    "\n",
    "h_e = sp.Symbol('h_e') \n",
    "Agen = Agen.subs({xL-xR:-h_e, -xL+xR:h_e})"
   ]
  },
  {
   "cell_type": "code",
   "execution_count": 8,
   "metadata": {},
   "outputs": [],
   "source": [
    "def matriz_global(nx, problema='dirichlet'):\n",
    "    size = nx-1 if problema=='dirichlet' else nx\n",
    "    A = np.zeros((size,size),dtype=float)\n",
    "    \n",
    "    ret = 1 if problema=='neumann_izquierda' else 0\n",
    "    n_diag_sup = nx-1 if problema=='dirichlet' else nx\n",
    "    for i in range(1+ret,nx+ret): \n",
    "        A[i-1,i-1] = Agen[1,1].subs({h_e:x[i-ret]-x[i-1-ret]})+Agen[0,0].subs({h_e:x[i+1-ret]-x[i-ret]})\n",
    "    for i in range(1,n_diag_sup): # y ahora la diagonal inferior adyacente\n",
    "        A[i-1,i] = Agen[0,1].subs({h_e:x[i+1-ret]-x[i-ret]})\n",
    "        A[i,i-1] = A[i-1,i] # aprovechando la simetría de la matriz\n",
    "    if problema=='neumann_derecha':\n",
    "        A[nx-1,nx-1]   = Agen[1,1].subs({h_e:x[nx-ret]-x[nx-1-ret]})\n",
    "    elif problema=='neumann_izquierda':\n",
    "        A[0,0]   = Agen[0,0].subs({h_e:x[1]-x[0]})\n",
    "    return A"
   ]
  },
  {
   "cell_type": "code",
   "execution_count": 9,
   "metadata": {},
   "outputs": [],
   "source": [
    "from scipy.integrate import quad\n",
    "\n",
    "def fbis(f, z, p1, p, q): # permite considerar condiciones de frontera homogéneas\n",
    "    t = sp.Symbol('t')\n",
    "    return (f(t)-L(p1,t,p,q)).subs({t:z})\n",
    "    #return (f(t)-L(lambda x:p1.subs(z,x),t,p,q)).subs({t:z})\n",
    "\n",
    "\n",
    "def vector_cargas(nx, p1, f, p, q, problema):\n",
    "    size = nx-1 if problema=='dirichlet' else nx \n",
    "    B = np.zeros(size)\n",
    "    \n",
    "    ret = 1 if problema=='neumann_izquierda' else 0\n",
    "    for i in range(1+ret,nx+ret):\n",
    "        intizda = quad(lambda z:fbis(f,z,p1,p,q)*l2(Finv(z,x[i-1-ret],x[i-ret])),x[i-1-ret],x[i-ret])\n",
    "        intdcha = quad(lambda z:fbis(f,z,p1,p,q)*l1(Finv(z,x[i-ret],x[i+1-ret])),x[i-ret],x[i+1-ret])\n",
    "        B[i-1] = intizda[0] + intdcha[0]\n",
    "    if problema=='neumann_derecha':\n",
    "        B[nx-1] = quad(lambda z:fbis(f,z,p1,p,q)*l2(Finv(z,x[nx-1],x[nx])),x[nx-1],x[nx])[0]\n",
    "    elif problema=='neumann_izquierda':\n",
    "        B[0] = quad(lambda z:fbis(f,z,p1,p,q)*l1(Finv(z,x[0],x[1])),x[0],x[1])[0]\n",
    "    return B"
   ]
  },
  {
   "cell_type": "code",
   "execution_count": 10,
   "metadata": {},
   "outputs": [],
   "source": [
    "## res es la resolución (número de nodos) del vector que se devuelve (igual que el dibujo),\n",
    "# el número de nodos usados internamente para el cálculo de la solución es nx.\n",
    "## plot indica si se desea mostrar un gráfico con la solución calculada.\n",
    "def resolver_autoadjunto(p,q,f,ya=None,yb=None,dya=None,dyb=None,res=1000,plot=True):\n",
    "    #assert sum(x is not None for x in [ya,yb,dya,dyb])>=2 ,\"Debe haber al menos dos condiciones de contorno.\"\n",
    "    assert callable(p) and callable(q) and callable(f), \"p, q y f deben ser funciones o lambdas.\"\n",
    "    \n",
    "    # Discernimos entre los casos siguientes\n",
    "    if ya is not None and yb is not None:    # Se fijan los extremos\n",
    "        problema = 'dirichlet'\n",
    "    elif ya is not None and dyb is not None:    # Condición Dirichlet izquierda, Neumann derecha\n",
    "        problema = 'neumann_derecha'\n",
    "    elif yb is not None and dya is not None:    # Condición Neumann izquierda, Dirichlet derecha\n",
    "        problema = 'neumann_izquierda'\n",
    "    else:\n",
    "        print(\"Opción no implementada\")\n",
    "        return\n",
    "    print(\"Detectadas condiciones tipo\", problema)\n",
    "    \n",
    "    A = matriz_global(nx, problema)\n",
    "    print('\\nMatriz de rigidez:\\n')\n",
    "    print(A)\n",
    "    # Definimos p1, esto es, el polinomio lineal homogeneizador\n",
    "    z = sp.Symbol('z')\n",
    "    if problema=='dirichlet':\n",
    "        p1 = lambda z:ya+(yb-ya)/(b-a)*(z-a)\n",
    "    elif problema=='neumann_derecha':\n",
    "        p1 = lambda z:ya+dyb*(z-a)\n",
    "    elif problema=='neumann_izquierda':\n",
    "        p1 = lambda z:yb+dya*(z-b)\n",
    "    \n",
    "    B = vector_cargas(nx, p1, f, p, q, problema)\n",
    "    print('\\nVector de carga:\\n')\n",
    "    print(B)\n",
    "    \n",
    "    Y = np.linalg.solve(A,B)\n",
    "    \n",
    "    xx = np.linspace(a,b,res)\n",
    "    if problema=='dirichlet' or problema=='neumann_derecha':\n",
    "        yy = np.array([sum([wi(z,x,i)*Y[i-1] for i in range(1,nx)]) for z in xx])\n",
    "    elif problema=='neumann_izquierda':\n",
    "        yy = np.array([sum([wi(z,x,i)*Y[i] for i in range(1,nx)]) for z in xx])\n",
    "        \n",
    "    if problema=='neumann_derecha':\n",
    "        yy = yy + Y[-1]*np.array([wn(z,x) for z in xx])\n",
    "    elif problema=='neumann_izquierda':\n",
    "        yy = yy + Y[0]*np.array([w0(z,x) for z in xx])\n",
    "    yyp1 = np.array([p1(x) for x in xx])\n",
    "    solucion = yy+yyp1\n",
    "    if plot:\n",
    "        plt.plot(xx,solucion, label=\"Solución\"); # de contorno del problema de partida\n",
    "        plt.plot(xx,yy, label=\"Solución Homogénea\");\n",
    "        plt.plot(xx, yyp1, label=\"p1\");\n",
    "        plt.legend();\n",
    "    \n",
    "    return solucion"
   ]
  },
  {
   "cell_type": "markdown",
   "metadata": {},
   "source": [
    "Probaremos nuestra función general con los dos problemas (Dirichlet y Neumann) vistos en prácticas."
   ]
  },
  {
   "cell_type": "code",
   "execution_count": 11,
   "metadata": {
    "scrolled": false
   },
   "outputs": [
    {
     "name": "stdout",
     "output_type": "stream",
     "text": [
      "Detectadas condiciones tipo dirichlet\n",
      "\n",
      "Matriz de rigidez:\n",
      "\n",
      "[[10. -5.  0. ...  0.  0.  0.]\n",
      " [-5. 10. -5. ...  0.  0.  0.]\n",
      " [ 0. -5. 10. ...  0.  0.  0.]\n",
      " ...\n",
      " [ 0.  0.  0. ... 10. -5.  0.]\n",
      " [ 0.  0.  0. ... -5. 10. -5.]\n",
      " [ 0.  0.  0. ...  0. -5. 10.]]\n",
      "\n",
      "Vector de carga:\n",
      "\n",
      "[ 0.0396016   0.0776244   0.11255257  0.14299362  0.16773396  0.18578729\n",
      "  0.19643385  0.19924923  0.19412116  0.18125409  0.161161    0.13464293\n",
      "  0.10275706  0.0667746   0.02813005 -0.01163596 -0.05093809 -0.08820947\n",
      " -0.12196422 -0.15085664 -0.17373488 -0.18968686 -0.19807662 -0.1985697\n",
      " -0.19114642 -0.17610275 -0.15403841 -0.12583304 -0.09261111 -0.05569707\n",
      " -0.01656256  0.02323225  0.06210086  0.0984937   0.13095991  0.15820517\n",
      "  0.17914328  0.19293951  0.19904386  0.19721296  0.18751979  0.17035081\n",
      "  0.14639047  0.11659401  0.08214932  0.04442959  0.00493859 -0.03474929\n",
      " -0.07305183]\n"
     ]
    },
    {
     "data": {
      "image/png": "[encoded data removed]",
      "text/plain": [
       "<Figure size 432x288 with 1 Axes>"
      ]
     },
     "metadata": {
      "needs_background": "light"
     },
     "output_type": "display_data"
    }
   ],
   "source": [
    "p = lambda x:1.0;    q = lambda x:0.0;\n",
    "resolver_autoadjunto(p=p, q=q, f=lambda z:sp.sin(z), ya=0, yb=1);"
   ]
  },
  {
   "cell_type": "code",
   "execution_count": 12,
   "metadata": {},
   "outputs": [
    {
     "name": "stdout",
     "output_type": "stream",
     "text": [
      "Detectadas condiciones tipo neumann_derecha\n",
      "\n",
      "Matriz de rigidez:\n",
      "\n",
      "[[10. -5.  0. ...  0.  0.  0.]\n",
      " [-5. 10. -5. ...  0.  0.  0.]\n",
      " [ 0. -5. 10. ...  0.  0.  0.]\n",
      " ...\n",
      " [ 0.  0.  0. ... 10. -5.  0.]\n",
      " [ 0.  0.  0. ... -5. 10. -5.]\n",
      " [ 0.  0.  0. ...  0. -5.  5.]]\n",
      "\n",
      "Vector de carga:\n",
      "\n",
      "[ 0.0396016   0.0776244   0.11255257  0.14299362  0.16773396  0.18578729\n",
      "  0.19643385  0.19924923  0.19412116  0.18125409  0.161161    0.13464293\n",
      "  0.10275706  0.0667746   0.02813005 -0.01163596 -0.05093809 -0.08820947\n",
      " -0.12196422 -0.15085664 -0.17373488 -0.18968686 -0.19807662 -0.1985697\n",
      " -0.19114642 -0.17610275 -0.15403841 -0.12583304 -0.09261111 -0.05569707\n",
      " -0.01656256  0.02323225  0.06210086  0.0984937   0.13095991  0.15820517\n",
      "  0.17914328  0.19293951  0.19904386  0.19721296  0.18751979  0.17035081\n",
      "  0.14639047  0.11659401  0.08214932  0.04442959  0.00493859 -0.03474929\n",
      " -0.07305183 -0.04863838]\n"
     ]
    },
    {
     "data": {
      "image/png": "[encoded data removed]",
      "text/plain": [
       "<Figure size 432x288 with 1 Axes>"
      ]
     },
     "metadata": {
      "needs_background": "light"
     },
     "output_type": "display_data"
    }
   ],
   "source": [
    "p = lambda x:1.0;    q = lambda x:0.0;\n",
    "resolver_autoadjunto(p=p, q=q, f=lambda z:sp.sin(z), ya=-1, dyb=1);"
   ]
  },
  {
   "cell_type": "markdown",
   "metadata": {},
   "source": [
    "Obtenemos los mismos resultados que en los ejemplos vistos en clase. Probamos con otros problemas, esta vez con $p$ y $q$ no constantes."
   ]
  },
  {
   "cell_type": "code",
   "execution_count": 13,
   "metadata": {},
   "outputs": [
    {
     "name": "stdout",
     "output_type": "stream",
     "text": [
      "Detectadas condiciones tipo dirichlet\n",
      "\n",
      "Matriz de rigidez:\n",
      "\n",
      "[[10. -5.  0. ...  0.  0.  0.]\n",
      " [-5. 10. -5. ...  0.  0.  0.]\n",
      " [ 0. -5. 10. ...  0.  0.  0.]\n",
      " ...\n",
      " [ 0.  0.  0. ... 10. -5.  0.]\n",
      " [ 0.  0.  0. ... -5. 10. -5.]\n",
      " [ 0.  0.  0. ...  0. -5. 10.]]\n",
      "\n",
      "Vector de carga:\n",
      "\n",
      "[ 0.0436016   0.0856244   0.12455257  0.15899362  0.18773396  0.20978729\n",
      "  0.22443385  0.23124923  0.23012116  0.22125409  0.205161    0.18264293\n",
      "  0.15475706  0.1227746   0.08813005  0.05236404  0.01706191 -0.01620947\n",
      " -0.04596422 -0.07085664 -0.08973488 -0.10168686 -0.10607662 -0.1025697\n",
      " -0.09114642 -0.07210275 -0.04603841 -0.01383304  0.02338889  0.06430293\n",
      "  0.10743744  0.15123225  0.19410086  0.2344937   0.27095991  0.30220517\n",
      "  0.32714328  0.34493951  0.35504386  0.35721296  0.35151979  0.33835081\n",
      "  0.31839047  0.29259401  0.26214932  0.22842959  0.19293859  0.15725071\n",
      "  0.12294817]\n"
     ]
    },
    {
     "data": {
      "image/png": "[encoded data removed]",
      "text/plain": [
       "<Figure size 432x288 with 1 Axes>"
      ]
     },
     "metadata": {
      "needs_background": "light"
     },
     "output_type": "display_data"
    }
   ],
   "source": [
    "p = lambda x:x**2;    q = lambda x:1.0;\n",
    "resolver_autoadjunto(p=p, q=q, f=lambda z:sp.sin(z), ya=0.0, yb=1.0);"
   ]
  },
  {
   "cell_type": "code",
   "execution_count": 14,
   "metadata": {},
   "outputs": [
    {
     "name": "stdout",
     "output_type": "stream",
     "text": [
      "Detectadas condiciones tipo neumann_izquierda\n",
      "\n",
      "Matriz de rigidez:\n",
      "\n",
      "[[ 5. -5.  0. ...  0.  0.  0.]\n",
      " [-5. 10. -5. ...  0.  0.  0.]\n",
      " [ 0. -5. 10. ...  0.  0.  0.]\n",
      " ...\n",
      " [ 0.  0.  0. ... 10. -5.  0.]\n",
      " [ 0.  0.  0. ... -5. 10. -5.]\n",
      " [ 0.  0.  0. ...  0. -5. 10.]]\n",
      "\n",
      "Vector de carga:\n",
      "\n",
      "[-0.01721119 -0.0479964  -0.05025018 -0.04765213 -0.0463365  -0.04793953\n",
      " -0.05257006 -0.05972762 -0.06875151 -0.07902905 -0.09006939 -0.10151082\n",
      " -0.11310151 -0.12467397 -0.13612164 -0.14738028 -0.15841412 -0.16920614\n",
      " -0.17975131 -0.19005202 -0.2001151  -0.20994979 -0.21956657 -0.22897627\n",
      " -0.23818965 -0.24721709 -0.25606845 -0.26475299 -0.27327935 -0.28165557\n",
      " -0.2898891  -0.29798686 -0.30595525 -0.31380022 -0.3215273  -0.3291416\n",
      " -0.33664791 -0.34405069 -0.3513541  -0.35856202 -0.3656781  -0.37270577\n",
      " -0.37964824 -0.38650854 -0.3932895  -0.39999383 -0.40662407 -0.41318261\n",
      " -0.41967173 -0.4260936 ]\n"
     ]
    },
    {
     "data": {
      "image/png": "[encoded data removed]",
      "text/plain": [
       "<Figure size 432x288 with 1 Axes>"
      ]
     },
     "metadata": {
      "needs_background": "light"
     },
     "output_type": "display_data"
    }
   ],
   "source": [
    "p = lambda x:sp.cos(x);    q = lambda x:sp.sqrt(x);\n",
    "sol = resolver_autoadjunto(p=p, q=q, f=lambda z:sp.tanh(z), dya=0.0, yb=1.0);"
   ]
  },
  {
   "cell_type": "code",
   "execution_count": 15,
   "metadata": {},
   "outputs": [
    {
     "data": {
      "text/plain": [
       "(0.000861420945135194, 1.0)"
      ]
     },
     "execution_count": 15,
     "metadata": {},
     "output_type": "execute_result"
    }
   ],
   "source": [
    "# Comprobamos que se cumplen las condiciones de contorno\n",
    "(sol[1]-sol[0])/(x[1]-x[0]), sol[-1]"
   ]
  },
  {
   "cell_type": "markdown",
   "metadata": {},
   "source": [
    "En los dos ejemplo anteriores obtenemos soluciones que satisfacen las condiciones de contorno impuestas, a pesar de haber usado funciones $p,q$ y $f$ más complejas."
   ]
  }
 ],
 "metadata": {
  "kernelspec": {
   "display_name": "Python 3",
   "language": "python",
   "name": "python3"
  },
  "language_info": {
   "codemirror_mode": {
    "name": "ipython",
    "version": 3
   },
   "file_extension": ".py",
   "mimetype": "text/x-python",
   "name": "python",
   "nbconvert_exporter": "python",
   "pygments_lexer": "ipython3",
   "version": "3.8.2"
  }
 },
 "nbformat": 4,
 "nbformat_minor": 4
}
