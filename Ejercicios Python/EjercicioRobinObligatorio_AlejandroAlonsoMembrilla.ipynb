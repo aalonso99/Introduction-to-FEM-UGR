{
 "cells": [
  {
   "cell_type": "markdown",
   "metadata": {},
   "source": [
    "# Introducción al MEF en una dimensión\n",
    "\n",
    "*Alejandro Alonso Membrilla*"
   ]
  },
  {
   "cell_type": "markdown",
   "metadata": {},
   "source": [
    "En este cuaderno se expone la solución al ejercicio obligatorio sobre la resolución numérica de un problema con condiciones de tipo Robin. \n",
    "\n",
    "Aplicaremos el método sugerido en el comentario previo al enunciado del ejercicio, basado en el segundo método para resolver el problema de tipo Neumann con condiciones a la derecha del intervalo visto en las clases de prácticas. Como se verá, esta técnica calcula directamente la solución al problema (sin necesidad de descomponerla en una solución homogénea y un término más sencillo) añadiendo ciertos términos al vector de cargas y a la matriz de rigidez."
   ]
  },
  {
   "cell_type": "code",
   "execution_count": 1,
   "metadata": {},
   "outputs": [],
   "source": [
    "import numpy as np # Importamos el módulo NumPy con el pseudónimo np\n",
    "import sympy as sp # Importamos el módulo SymPy con el pseudónimo sp\n",
    "import math\n",
    "%matplotlib inline \n",
    "import matplotlib.pyplot as plt"
   ]
  },
  {
   "cell_type": "markdown",
   "metadata": {},
   "source": [
    "# Definición de las funciones de base del E.F."
   ]
  },
  {
   "cell_type": "code",
   "execution_count": 2,
   "metadata": {},
   "outputs": [],
   "source": [
    "t,z,xL,xR,yL,yR = sp.symbols('t,z,xL,xR,yL,yR')\n",
    "def linea(z,xL,yL,xR,yR):\n",
    "    \"\"\"linea que pasa por los puntos (xL,yL) y (xR,yR)\"\"\"\n",
    "    return yL+(z-xL)*(yL-yR)/(xL-xR)"
   ]
  },
  {
   "cell_type": "code",
   "execution_count": 3,
   "metadata": {},
   "outputs": [],
   "source": [
    "def l1(t):\n",
    "    \"\"\"primera func. de base del E.F. de Lagrange P1 en 1D\"\"\"\n",
    "    return 1-t\n",
    "\n",
    "def l2(t):\n",
    "    \"\"\"segunda func. de base del E.F. de Lagrange P1 en 1D\"\"\"\n",
    "    return t"
   ]
  },
  {
   "cell_type": "code",
   "execution_count": 4,
   "metadata": {},
   "outputs": [],
   "source": [
    "def dl1(t):\n",
    "    \"\"\"derivada de la primera func. de base del E.F. de Lagrange P1 en 1D\"\"\"\n",
    "    return -1\n",
    "\n",
    "def dl2(t):\n",
    "    \"\"\"derivada de la segunda func. de base del E.F. de Lagrange P1 en 1D\"\"\"\n",
    "    return 1"
   ]
  },
  {
   "cell_type": "code",
   "execution_count": 5,
   "metadata": {},
   "outputs": [],
   "source": [
    "def Finv(z,a,b):\n",
    "    \"\"\"afinidad entre cada subintervalo de la partición \n",
    "        y el intervalo unidad\"\"\"\n",
    "    return (z-a)/(b-a)\n",
    "\n",
    "def dFinv(z,a,b):\n",
    "    \"\"\" derivada de la afinidad Finv\"\"\"\n",
    "    return 1/(b-a)"
   ]
  },
  {
   "cell_type": "code",
   "execution_count": 6,
   "metadata": {},
   "outputs": [],
   "source": [
    "def wi(z,x,i):  # en los nodos interiores\n",
    "    \"\"\"funciones de base del E.F. de Lagrange P1 unidimensional\"\"\"\n",
    "    if (x[i-1]<=z)*(z<=x[i]):\n",
    "        valor = l2(Finv(z,x[i-1],x[i]))\n",
    "    elif (x[i]<=z)*(z<=x[i+1]):  \n",
    "        valor = l1(Finv(z,x[i],x[i+1]))\n",
    "    else:\n",
    "        valor = 0\n",
    "    return valor\n",
    "\n",
    "def w0(z,x):  # en el extremo izquierdo del intervalo\n",
    "    \"\"\"funcion de base del E.F. de Lagrange P1 unidimensional \n",
    "    en el extremo izquierdo\"\"\"\n",
    "    if (x[0]<=z)*(z<=x[1]):\n",
    "        valor = l1(Finv(z,x[0],x[1]))\n",
    "    else:\n",
    "        valor = 0\n",
    "    return valor\n",
    "\n",
    "def wn(z,x):  # en el extremo derecho del intervalo\n",
    "    \"\"\"funcion de base del E.F. de Lagrange P1 unidimensional \n",
    "    en el extremo derecho\"\"\"\n",
    "    # recuérdese que x[-1] y x[-2] indican respectivamente el último y penúltimo nodos\n",
    "    if (x[-2]<=z)*(z<=x[-1]):  \n",
    "        valor = l2(Finv(z,x[-2],x[-1])) \n",
    "    else:\n",
    "        valor = 0\n",
    "    return valor"
   ]
  },
  {
   "cell_type": "code",
   "execution_count": 7,
   "metadata": {},
   "outputs": [],
   "source": [
    "def f(z):\n",
    "    return np.sin(z)"
   ]
  },
  {
   "cell_type": "markdown",
   "metadata": {},
   "source": [
    "# Planteamiento del problema diferencial de 2º orden a resolver"
   ]
  },
  {
   "cell_type": "markdown",
   "metadata": {},
   "source": [
    "Supongamos que queremos resolver un problema de contorno de segundo orden muy sencillo, con condiciones de tipo Dirichlet en los extremos de cierto intervalo $[a,b]$; pongamos por ejemplo\n",
    "\n",
    "$$-y''(x) = f(x), \\; x\\in [a,b]\\\\\n",
    "y(a) = y_a,\\quad y(b)=y_b$$\n",
    "\n",
    "para cierta función $f(x)$ continua en dicho intervalo. Tomemos por ejemplo $f(x)=\\sin(x),\\; x\\in[0,10]$ para empezar."
   ]
  },
  {
   "cell_type": "code",
   "execution_count": 8,
   "metadata": {},
   "outputs": [
    {
     "data": {
      "text/latex": [
       "$\\displaystyle - \\frac{d^{2}}{d z^{2}} y{\\left(z \\right)}$"
      ],
      "text/plain": [
       "-Derivative(y(z), (z, 2))"
      ]
     },
     "execution_count": 8,
     "metadata": {},
     "output_type": "execute_result"
    }
   ],
   "source": [
    "z = sp.Symbol('z')\n",
    "y   = sp.Function('y')\n",
    "def L(y,z): # usaremos la variable z como variable independiente\n",
    "    \"\"\"operador diferencial que define la ec. dif.\"\"\"\n",
    "    return -sp.diff(y(z),z,2)\n",
    "L(y,z)  "
   ]
  },
  {
   "cell_type": "code",
   "execution_count": 9,
   "metadata": {},
   "outputs": [
    {
     "data": {
      "text/latex": [
       "$\\displaystyle - \\frac{d^{2}}{d z^{2}} y{\\left(z \\right)} = \\sin{\\left(z \\right)}$"
      ],
      "text/plain": [
       "Eq(-Derivative(y(z), (z, 2)), sin(z))"
      ]
     },
     "execution_count": 9,
     "metadata": {},
     "output_type": "execute_result"
    }
   ],
   "source": [
    "# z = sp.Symbol('z')\n",
    "def f(z):\n",
    "    \"\"\"función del segundo término de la ec. diferencial\"\"\"\n",
    "    return sp.sin(z)\n",
    "\n",
    "sp.Eq(L(y,z),f(z)) #  ec. diferencial que estamos considerando "
   ]
  },
  {
   "cell_type": "markdown",
   "metadata": {},
   "source": [
    "# Caso de condiciones mixtas (de tipo Robin)"
   ]
  },
  {
   "cell_type": "markdown",
   "metadata": {},
   "source": [
    "#### Posibilidad de proponer como ejercicio este caso"
   ]
  },
  {
   "cell_type": "markdown",
   "metadata": {},
   "source": [
    "Resolveremos finalmente la misma ecuación diferencial anterior, pero con alguna de las condiciones de tipo Robin (o mixto), aunque la otra siga siendo de tipo Dirichlet en alguno de los dos extremos de cierto intervalo $[a,b]$, con lo cuál seguimos teniendo asegurada la unicidad de la correspondiente solución; pongamos por ejemplo (con $|\\alpha_b|+|\\beta_b|\\neq 0$)\n",
    "\n",
    "$$-y''(x) = f(x), \\; x\\in [a,b]\\\\\n",
    "y(a) = y_a,\\quad \\alpha_b y(b)+\\beta_b y'(b)=\\widehat{y}_b$$\n",
    "\n",
    "para cierta función $f(x)$ continua en dicho intervalo. Seguiremos tomando $f(x)=\\sin(x),\\; x\\in[0,10]$ como antes.\n",
    "\n",
    "**Comentario:** Nótese que si $\\beta_b = 0$ entonces la condición de tipo Robin se reduciría a una condición de tipo Dirichlet estandard ($y(b)=\\frac{\\widehat{y}_b}{\\alpha_b}$), mientras que si por el contrario $\\alpha_b = 0$ entonces dicha condición se convierte en una condición de tipo Neumann ($y'(b)=\\frac{\\widehat{y}_b}{\\beta_b}$); así pues, consideraremos $\\alpha_b, \\beta_b\\neq 0$ a partir de ahora.\n",
    "\n",
    "De manera completamente equivalente se podría haber planteado el problema con condiciones de tipo Robin en el extremo de la izquierda:\n",
    "$$\\alpha_a y(a)+\\beta_a y'(a)=\\widehat{y}_a, \\quad y(b) = y_b $$"
   ]
  },
  {
   "cell_type": "markdown",
   "metadata": {},
   "source": [
    "Buscaremos soluciones aproximadas de la siguiente forma  \n",
    "$$\\widetilde{y}_h(x) = y_0 w_0(x)+ \\sum_{j=1}^{n}y_j w_j(x)\\equiv y_a w_0(x)+\\widetilde{z}_h(x),$$ con el valor $y_0=y_a$ fijado a partir de la condición de tipo Dirichlet dada en ese extremo izquierdo del intervalo, mientras que tendremos que dejar $y_n$ libre, por la condición de tipo mixto impuesta en el otro extremo del intervalo.  Como es habitual, usaremos las funciones de base $w_i(x),\\, i=0,1,\\ldots, n$ para este E.F. de Lagrange lineal.\n",
    "\n",
    "En este caso pues, también se deberá satisfacer la correspondiente formulación variacional del problema correspondiente a una condición de tipo Robin: $\\alpha_b y(b)+\\beta_b y'(b)=\\widehat{y}_b$ en el extremo derecho del intervalo $[a,b]$ (con $\\beta_b\\neq 0$), a saber\n",
    "\n",
    "$$\\mathcal{A}(\\widetilde{y}_h,w_i)\n",
    "+w_i(b)\\widetilde{y}_h(b)\\frac{\\alpha_b}{\\beta_b}\n",
    "=\\mathcal{B}_{f}(w_i)+w_i(b)\\frac{\\widehat{y}_b}{\\beta_b},\\; \\forall i =1,\\ldots,n$$\n",
    "\n",
    "donde ahora podríamos escribir $\\widetilde{\\mathcal{A}}(w_i,w_j)\\equiv\\mathcal{A}(w_i,w_j)\n",
    "+w_i(b)\\, w_j(b)\\,\\frac{\\alpha_b}{\\beta_b}$  y\n",
    "$\\widetilde{\\mathcal{B}}_{f}(w_i)\\equiv\\mathcal{B}_{f}(w_i)+ w_i(b)\\frac{\\widehat{y}_b}{\\beta_b}$; pero claramente estos nuevos  sumandos sólo cambiarán algo cuando ni $w_i(b)$ ni $w_j(b)$ se anule; es decir para los índices $i=j=n$.\n",
    "\n",
    "Usando además la bilinealidad de la forma cuadrática $\\mathcal{A}$ nos quedaría $\\forall i =1,\\ldots,n$ que\n",
    "\n",
    "$$\\widetilde{\\mathcal{B}}_{f}(w_i)= \\int_a^b f(x)w_i(x)\\,dx + w_i(b)\\frac{\\widehat{y}_b}{\\beta_b}\\\\\n",
    "= \\widetilde{\\mathcal{A}}(y_a w_0+ \\sum_{j=1}^{n}y_j w_j,w_i) \\\\\n",
    "=y_a \\mathcal{A}(w_0,w_i)+w_0(b)\\,w_i(b)\\,\\frac{\\alpha_b}{\\beta_b}\\\\\n",
    "+\\sum_{j=1}^{n}y_j \\mathcal{A}(w_j,w_i)\n",
    "+w_i(b)\\,w_j(b)\\, \\frac{\\alpha_b}{\\beta_b}$$\n",
    "\n",
    "pero claramente todos los elementos $w_i(b)=w_j(b)=0,\\; \\forall i=1,\\ldots,n-1$ y $\\mathcal{A}(w_0,w_i)$ también serán nulos salvo en todo caso el correspondiente a $i=1$\n",
    "$$\\mathcal{A}(w_0,w_1)=-\\frac{1}{x_1-x_0}.$$\n",
    "\n",
    "Así pues, tan sólo tendríamos que modificar el primer elemento del vector de cargas, sumándole el siguiente término:\n",
    "\n",
    "$$-y_a\\mathcal{A}(w_0,w_1) = +\\frac{y_a}{x_1-x_0}$$\n",
    "\n",
    "En cuanto a los términos $w_i(b)\\,w_j(b)\\,\\frac{\\alpha_b}{\\beta_b}$, nótese que todos se anularían también, salvo el caso $i=j=n$; por lo tanto esto provocaría que cambie tan sólo el último elemento de la diagonal de la matriz de rígidez: \n",
    "$\\widetilde{\\mathcal{A}}(w_n,w_n) = \\mathcal{A}(w_n,w_n) +\\,\\frac{\\alpha_b}{\\beta_b}$.\n"
   ]
  },
  {
   "cell_type": "markdown",
   "metadata": {},
   "source": [
    "**Ejercicio (obligatorio):** Terminar de implementar el código correspondiente a la resolución numérica aproximada de un problema como este con condiciones de contorno de tipo Robin, en uno de los extremos del intervalo y resuelva el correspondiente problema con $a=0$, $b=M=\\max_\\limits{1\\leq i\\leq 8}{d_i}$, $y_a=d_2$, $\\alpha_b = \\max{(d_3,1)}$, $\\beta_b = \\max{(d_4,1)}$ e $\\widehat{y}_b = d_5$, si el último dígito de su DNI es par o 0; o bien $a=0$, $b=M$, $y_b=d_2$, $\\alpha_a = \\max{ (d_3,1)}$, $\\beta_a =\\max{(1, d_4)}$ e $\\widehat{y}_a = d_5$, si el último dígito de su DNI es impar, siendo $d_i$ (con $i=1,\\ldots 8$) el dígito de su DNI o pasaporte situado en la posición i-ésima."
   ]
  },
  {
   "cell_type": "code",
   "execution_count": 10,
   "metadata": {},
   "outputs": [
    {
     "name": "stdout",
     "output_type": "stream",
     "text": [
      "Eq(y(z), C1 + C2*z + sin(z))\n"
     ]
    },
    {
     "data": {
      "text/latex": [
       "$\\displaystyle y{\\left(z \\right)} = C_{1} + C_{2} z + \\sin{\\left(z \\right)}$"
      ],
      "text/plain": [
       "Eq(y(z), C1 + C2*z + sin(z))"
      ]
     },
     "execution_count": 10,
     "metadata": {},
     "output_type": "execute_result"
    }
   ],
   "source": [
    "solgen = sp.dsolve(sp.Eq(-y(z).diff(z,2), f(z)))\n",
    "print(solgen)\n",
    "solgen"
   ]
  },
  {
   "cell_type": "code",
   "execution_count": 11,
   "metadata": {},
   "outputs": [],
   "source": [
    "# Para calcular la solución exacta representaremos nuestros parámetros \n",
    "# de forma simbólica y construiremos un método general\n",
    "a,b,α,β = sp.symbols('a,b,α,β')\n",
    "ya,yb = sp.symbols('ya,yb')\n",
    "C1,C2 = sp.symbols('C1,C2')"
   ]
  },
  {
   "cell_type": "code",
   "execution_count": 12,
   "metadata": {},
   "outputs": [
    {
     "name": "stdout",
     "output_type": "stream",
     "text": [
      "C2 + cos(z)\n"
     ]
    }
   ],
   "source": [
    "print(sp.diff(C1 + C2*z + sp.sin(z),z)) "
   ]
  },
  {
   "cell_type": "code",
   "execution_count": 13,
   "metadata": {},
   "outputs": [
    {
     "data": {
      "text/plain": [
       "(C1 + C2*a - ya + sin(a), -yb + α*(C1 + C2*b + sin(b)) + β*(C2 + cos(b)))"
      ]
     },
     "execution_count": 13,
     "metadata": {},
     "output_type": "execute_result"
    }
   ],
   "source": [
    "ecs = (C1 + C2*z + sp.sin(z)).subs({z:a})-ya, (α*(C1 + C2*z + sp.sin(z))+β*(C2 + sp.cos(z))).subs({z:b})-yb\n",
    "ecs  # continuar a partir de aquí"
   ]
  },
  {
   "cell_type": "code",
   "execution_count": 14,
   "metadata": {},
   "outputs": [],
   "source": [
    "c1c2 = sp.solve(ecs,[C2,C1])"
   ]
  },
  {
   "cell_type": "code",
   "execution_count": 15,
   "metadata": {},
   "outputs": [
    {
     "data": {
      "text/plain": [
       "{C2: ya*α/(a*α - b*α - β) - yb/(a*α - b*α - β) - α*sin(a)/(a*α - b*α - β) + α*sin(b)/(a*α - b*α - β) + β*cos(b)/(a*α - b*α - β),\n",
       " C1: a*yb/(a*α - b*α - β) - a*α*sin(b)/(a*α - b*α - β) - a*β*cos(b)/(a*α - b*α - β) - b*ya*α/(a*α - b*α - β) + b*α*sin(a)/(a*α - b*α - β) - ya*β/(a*α - b*α - β) + β*sin(a)/(a*α - b*α - β)}"
      ]
     },
     "execution_count": 15,
     "metadata": {},
     "output_type": "execute_result"
    }
   ],
   "source": [
    "c1c2"
   ]
  },
  {
   "cell_type": "code",
   "execution_count": 16,
   "metadata": {},
   "outputs": [
    {
     "name": "stdout",
     "output_type": "stream",
     "text": [
      "Eq(y(z), z*(ya*α - yb - α*sin(a) + α*sin(b) + β*cos(b))/(a*α - b*α - β) + (a*(-yb + α*sin(b) + β*cos(b)) + (ya - sin(a))*(b*α + β))/(-a*α + b*α + β) + sin(z))\n"
     ]
    }
   ],
   "source": [
    "# Sustituimos C1 y C2 en la solución general de la ecuación\n",
    "C1_val = (a*(-yb + α*sp.sin(b) + β*sp.cos(b)) + (ya - sp.sin(a))*(b*α + β))/(-a*α + b*α + β)\n",
    "C2_val = (ya*α - yb - α*sp.sin(a) + α*sp.sin(b) + β*sp.cos(b))/(a*α - b*α - β)\n",
    "print(solgen.subs({C1:C1_val,C2:C2_val}))"
   ]
  },
  {
   "cell_type": "code",
   "execution_count": 17,
   "metadata": {},
   "outputs": [
    {
     "name": "stdout",
     "output_type": "stream",
     "text": [
      "Eq(y(z), a*yb/(a*α - b*α - β) - a*α*sin(b)/(a*α - b*α - β) - a*β*cos(b)/(a*α - b*α - β) - b*ya*α/(a*α - b*α - β) + b*α*sin(a)/(a*α - b*α - β) - ya*β/(a*α - b*α - β) + z*(ya*α/(a*α - b*α - β) - yb/(a*α - b*α - β) - α*sin(a)/(a*α - b*α - β) + α*sin(b)/(a*α - b*α - β) + β*cos(b)/(a*α - b*α - β)) + β*sin(a)/(a*α - b*α - β) + sin(z))\n"
     ]
    }
   ],
   "source": [
    "print(solgen.subs(c1c2))"
   ]
  },
  {
   "cell_type": "code",
   "execution_count": 18,
   "metadata": {},
   "outputs": [],
   "source": [
    "# Definimos una función que evalúa la expresión analítica \n",
    "def yexacta(z,a,b,ya,yb,α,β):\n",
    "    \"\"\"solución exacta del problema tomado como ejemplo\"\"\"\n",
    "    return z*(ya*α - yb - α*sp.sin(a) + α*sp.sin(b) + β*sp.cos(b))/(a*α - b*α - β) + (a*(-yb + α*sp.sin(b) \\\n",
    "        + β*sp.cos(b)) + (ya - sp.sin(a))*(b*α + β))/(-a*α + b*α + β) + sp.sin(z)"
   ]
  },
  {
   "cell_type": "code",
   "execution_count": 19,
   "metadata": {},
   "outputs": [
    {
     "data": {
      "text/latex": [
       "$\\displaystyle - \\frac{z \\left(7 \\cos{\\left(9 \\right)} + 5 \\sin{\\left(9 \\right)} + 18\\right)}{52} + \\sin{\\left(z \\right)} + 5$"
      ],
      "text/plain": [
       "-z*(7*cos(9) + 5*sin(9) + 18)/52 + sin(z) + 5"
      ]
     },
     "execution_count": 19,
     "metadata": {},
     "output_type": "execute_result"
    }
   ],
   "source": [
    "# Sustituimos los parámetros siguiendo las indicaciones dadas en el enunciado\n",
    "dni = [7,5,5,7,7,3,9,4]\n",
    "a = 0; b = max(dni);\n",
    "ya = dni[1]; yb = dni[4];\n",
    "α = max(dni[2],1);  β = max(dni[3],1);\n",
    "yex = yexacta(z,a,b,ya,yb,α,β)\n",
    "yex"
   ]
  },
  {
   "cell_type": "code",
   "execution_count": 20,
   "metadata": {},
   "outputs": [
    {
     "data": {
      "text/latex": [
       "$\\displaystyle - \\sin{\\left(z \\right)}$"
      ],
      "text/plain": [
       "-sin(z)"
      ]
     },
     "execution_count": 20,
     "metadata": {},
     "output_type": "execute_result"
    }
   ],
   "source": [
    "sp.diff(yex,z,2)"
   ]
  },
  {
   "cell_type": "code",
   "execution_count": 21,
   "metadata": {},
   "outputs": [
    {
     "data": {
      "text/latex": [
       "$\\displaystyle 5.0$"
      ],
      "text/plain": [
       "5.00000000000000"
      ]
     },
     "execution_count": 21,
     "metadata": {},
     "output_type": "execute_result"
    }
   ],
   "source": [
    "sp.N(yex.subs({z:a}))"
   ]
  },
  {
   "cell_type": "code",
   "execution_count": 22,
   "metadata": {},
   "outputs": [
    {
     "data": {
      "text/latex": [
       "$\\displaystyle 7.0$"
      ],
      "text/plain": [
       "7.00000000000000"
      ]
     },
     "execution_count": 22,
     "metadata": {},
     "output_type": "execute_result"
    }
   ],
   "source": [
    "sp.N((α*yex+β*sp.diff(yex,z,1)).subs({z:b}))"
   ]
  },
  {
   "cell_type": "code",
   "execution_count": 23,
   "metadata": {},
   "outputs": [
    {
     "data": {
      "image/png": "[encoded data removed]",
      "text/plain": [
       "<Figure size 432x288 with 1 Axes>"
      ]
     },
     "metadata": {
      "needs_background": "light"
     },
     "output_type": "display_data"
    }
   ],
   "source": [
    "nx = 10; x = np.linspace(a,b,nx+1)\n",
    "nxx = 1000; xx = np.linspace(a,b,nxx+1)\n",
    "\n",
    "yyexacta = [yexacta(z,a,b,ya,yb,α,β) for z in xx] \n",
    "plt.plot(xx,yyexacta);"
   ]
  },
  {
   "cell_type": "markdown",
   "metadata": {},
   "source": [
    "### Ensamblaje de la matriz de rigidez"
   ]
  },
  {
   "cell_type": "code",
   "execution_count": 24,
   "metadata": {},
   "outputs": [
    {
     "data": {
      "text/latex": [
       "$\\displaystyle \\left[\\begin{matrix}\\frac{1}{h_{e}} & - \\frac{1}{h_{e}}\\\\- \\frac{1}{h_{e}} & \\frac{1}{h_{e}}\\end{matrix}\\right]$"
      ],
      "text/plain": [
       "Matrix([\n",
       "[ 1/h_e, -1/h_e],\n",
       "[-1/h_e,  1/h_e]])"
      ]
     },
     "execution_count": 24,
     "metadata": {},
     "output_type": "execute_result"
    }
   ],
   "source": [
    "# Matriz local\n",
    "a00 = sp.integrate((dl1(Finv(z,xL,xR))*dFinv(z,xL,xR))**2,[z,xL,xR])\n",
    "a01 = sp.integrate(dl1(Finv(z,xL,xR))*dl2(Finv(z,xL,xR))*dFinv(z,xL,xR)**2,[z,xL,xR])\n",
    "a11 = sp.integrate((dl2(Finv(z,xL,xR))*dFinv(z,xL,xR))**2,[z,xL,xR])\n",
    "\n",
    "Agen = sp.Matrix([[a00,a01],[a01,a11]])\n",
    "Agen = sp.simplify(Agen) # y esta sería la correspondiente matriz\n",
    "\n",
    "h_e = sp.Symbol('h_e') # ahora sustituiremos xR-xL por he, una\n",
    "Agen = Agen.subs({xL-xR:-h_e, -xL+xR:h_e}) # longitud genérica\n",
    "Agen"
   ]
  },
  {
   "cell_type": "code",
   "execution_count": 25,
   "metadata": {},
   "outputs": [
    {
     "data": {
      "text/plain": [
       "(10, 10)"
      ]
     },
     "execution_count": 25,
     "metadata": {},
     "output_type": "execute_result"
    }
   ],
   "source": [
    "A = np.zeros((nx,nx),dtype=float)\n",
    "np.shape(A)\n",
    "# print(A)"
   ]
  },
  {
   "cell_type": "code",
   "execution_count": 26,
   "metadata": {},
   "outputs": [],
   "source": [
    "for i in range(1,nx): # ¡Atención con los índices en Python!\n",
    "# hemos empezado con los elementos de la diagonal principal de la \n",
    "# matriz de rigidez, con índices desde 0 hasta nx-2.   \n",
    "    A[i-1,i-1] = Agen[1,1].subs({h_e:x[i]-x[i-1]})+Agen[0,0].subs({h_e:x[i+1]-x[i]})\n",
    "A[nx-1,nx-1]   = Agen[1,1].subs({h_e:x[nx]-x[nx-1]}) + α/β\n",
    "# pero el caso nx-1 es especial y hay que definirlo aparte"
   ]
  },
  {
   "cell_type": "code",
   "execution_count": 27,
   "metadata": {},
   "outputs": [
    {
     "name": "stdout",
     "output_type": "stream",
     "text": [
      "[[ 2.22222222 -1.11111111  0.          0.          0.          0.\n",
      "   0.          0.          0.          0.        ]\n",
      " [-1.11111111  2.22222222 -1.11111111  0.          0.          0.\n",
      "   0.          0.          0.          0.        ]\n",
      " [ 0.         -1.11111111  2.22222222 -1.11111111  0.          0.\n",
      "   0.          0.          0.          0.        ]\n",
      " [ 0.          0.         -1.11111111  2.22222222 -1.11111111  0.\n",
      "   0.          0.          0.          0.        ]\n",
      " [ 0.          0.          0.         -1.11111111  2.22222222 -1.11111111\n",
      "   0.          0.          0.          0.        ]\n",
      " [ 0.          0.          0.          0.         -1.11111111  2.22222222\n",
      "  -1.11111111  0.          0.          0.        ]\n",
      " [ 0.          0.          0.          0.          0.         -1.11111111\n",
      "   2.22222222 -1.11111111  0.          0.        ]\n",
      " [ 0.          0.          0.          0.          0.          0.\n",
      "  -1.11111111  2.22222222 -1.11111111  0.        ]\n",
      " [ 0.          0.          0.          0.          0.          0.\n",
      "   0.         -1.11111111  2.22222222 -1.11111111]\n",
      " [ 0.          0.          0.          0.          0.          0.\n",
      "   0.          0.         -1.11111111  1.82539683]]\n"
     ]
    }
   ],
   "source": [
    "for i in range(1,nx): # ahora nos encargamos de la diagonal inferior\n",
    "    A[i-1,i] = Agen[0,1].subs({h_e:x[i+1]-x[i]})\n",
    "    A[i,i-1] = A[i-1,i] # y de la superior por simetría\n",
    "print(A)"
   ]
  },
  {
   "cell_type": "code",
   "execution_count": 28,
   "metadata": {},
   "outputs": [
    {
     "name": "stdout",
     "output_type": "stream",
     "text": [
      "[0. 0. 0. 0. 0. 0. 0. 0. 0. 0.]\n"
     ]
    }
   ],
   "source": [
    "B = np.zeros(nx) # Ahora empezamos a construir el array correspondiente\n",
    "print(B)         # al vector de términos independientes del sist. lineal\n",
    "                 # con valores nulos en un primer momento."
   ]
  },
  {
   "cell_type": "code",
   "execution_count": 29,
   "metadata": {},
   "outputs": [
    {
     "name": "stdout",
     "output_type": "stream",
     "text": [
      "[ 0.65867354  0.81887608  0.35936953 -0.37210072 -0.82197256 -0.64979195\n",
      "  0.01413825  0.66736891  0.81554808  0.29138434]\n"
     ]
    }
   ],
   "source": [
    "from scipy.integrate import quad\n",
    "\n",
    "for i in range(1,nx):  # Atención: ¡cuidado con los índices en Python!\n",
    "    intizda = quad(lambda z:f(z)*l2(Finv(z,x[i-1],x[i])),x[i-1],x[i])\n",
    "    intdcha = quad(lambda z:f(z)*l1(Finv(z,x[i],x[i+1])),x[i],x[i+1])\n",
    "    B[i-1] = intizda[0] + intdcha[0]\n",
    "B[nx-1] = quad(lambda z:f(z)*l2(Finv(z,x[nx-1],x[nx])),x[nx-1],x[nx])[0]  \n",
    "print(B)"
   ]
  },
  {
   "cell_type": "code",
   "execution_count": 30,
   "metadata": {},
   "outputs": [
    {
     "data": {
      "text/plain": [
       "(6.214229098196412, 1.2913843445476447)"
      ]
     },
     "execution_count": 30,
     "metadata": {},
     "output_type": "execute_result"
    }
   ],
   "source": [
    "B[0]  = B[0]  + ya/(x[1]-x[0]) # modificamos el primer elemento\n",
    "B[-1] = B[-1] + yb/β # así como el último del vector de cargas B\n",
    "B[0],B[-1]"
   ]
  },
  {
   "cell_type": "code",
   "execution_count": 31,
   "metadata": {},
   "outputs": [],
   "source": [
    "Y = np.linalg.solve(A,B) # y ya podemos resolver el nuevo sistema"
   ]
  },
  {
   "cell_type": "code",
   "execution_count": 32,
   "metadata": {},
   "outputs": [
    {
     "data": {
      "text/plain": [
       "array([5.54651128, 5.50021638, 4.716933  , 3.61021705, 2.83839175,\n",
       "       2.80634176, 3.35910452, 3.89914286, 3.83854918, 3.04396223])"
      ]
     },
     "execution_count": 32,
     "metadata": {},
     "output_type": "execute_result"
    }
   ],
   "source": [
    "Y  # cuya solución nos aportará los coeficientes que necesitábamos"
   ]
  },
  {
   "cell_type": "code",
   "execution_count": 33,
   "metadata": {},
   "outputs": [
    {
     "data": {
      "image/png": "[encoded data removed]",
      "text/plain": [
       "<Figure size 432x288 with 1 Axes>"
      ]
     },
     "metadata": {
      "needs_background": "light"
     },
     "output_type": "display_data"
    }
   ],
   "source": [
    "yy = np.zeros(len(xx)) # con estos valores ya podemos construir la\n",
    "yy = np.array([sum([wi(z,x,i)*Y[i-1] for i in range(1,nx)]) for z in xx])\n",
    "# sumatoria, a la que añadimos las dos func. de base de los extremos\n",
    "yy = yy +    ya*np.array([w0(z,x) for z in xx]) # izquierdo y\n",
    "yy = yy + Y[-1]*np.array([wn(z,x) for z in xx]) # derecho\n",
    "# multiplicadas por los coeficientes apropiados\n",
    "plt.plot(xx,yyexacta); # para poder recuperar las condiciones\n",
    "plt.plot(xx,yy); # de contorno del problema de partida"
   ]
  }
 ],
 "metadata": {
  "anaconda-cloud": {},
  "kernelspec": {
   "display_name": "Python 3",
   "language": "python",
   "name": "python3"
  },
  "language_info": {
   "codemirror_mode": {
    "name": "ipython",
    "version": 3
   },
   "file_extension": ".py",
   "mimetype": "text/x-python",
   "name": "python",
   "nbconvert_exporter": "python",
   "pygments_lexer": "ipython3",
   "version": "3.8.2"
  }
 },
 "nbformat": 4,
 "nbformat_minor": 1
}
