{
 "cells": [
  {
   "cell_type": "markdown",
   "metadata": {},
   "source": [
    "# Problema prototipo de cuarto orden"
   ]
  },
  {
   "cell_type": "markdown",
   "metadata": {},
   "source": [
    "#### Alejandro Alonso Membrilla y Pilar Navarro Ramírez"
   ]
  },
  {
   "cell_type": "code",
   "execution_count": 1,
   "metadata": {},
   "outputs": [],
   "source": [
    "import numpy as np # Importamos el módulo NumPy con el pseudónimo np\n",
    "import sympy as sp # Importamos el módulo SymPy con el pseudónimo sp\n",
    "import math\n",
    "from sympy import sin, cos\n",
    "%matplotlib inline \n",
    "import matplotlib.pyplot as plt  # plt será el pseudónimo correspondiente\n",
    "\n",
    "t,z,xL,xR,yL,yR = sp.symbols('t,z,xL,xR,yL,yR')"
   ]
  },
  {
   "cell_type": "code",
   "execution_count": 2,
   "metadata": {},
   "outputs": [],
   "source": [
    "# Base de elementos finitos de Hermite\n",
    "def lh1(t):\n",
    "    \"\"\"primera func. de base del E.F. de Hermite P3 en 1D\"\"\"\n",
    "    return (1+2*t) * (t-1)**2\n",
    "\n",
    "def lh2(t):\n",
    "    \"\"\"segunda func. de base del E.F. de Hermite P3 en 1D\"\"\"\n",
    "    return t * (t-1)**2\n",
    "\n",
    "def lh3(t):\n",
    "    \"\"\"tercera func. de base del E.F. de Hermite P3 en 1D\"\"\"\n",
    "    return -t**2 * (2*t-3)\n",
    "\n",
    "def lh4(t):\n",
    "    \"\"\"cuarta func. de base del E.F. de Hermite P3 en 1D\"\"\"\n",
    "    return t**2 * (t-1)\n",
    "\n",
    "# def dlh1(t):\n",
    "#     return 2*(t - 1)**2 + (2*t - 2)*(2*t + 1)\n",
    "\n",
    "# def dlh2(t):\n",
    "#     return t*(2*t - 2) + (t - 1)**2\n",
    "\n",
    "# def dlh3(t):\n",
    "#     return -2*t**2 - 2*t*(2*t - 3)\n",
    "\n",
    "# def dlh4(t):\n",
    "#     return t**2 + 2*t*(t - 1)\n",
    "\n",
    "def Finv(z,a,b):\n",
    "    \"\"\"afinidad entre cada subintervalo de la partición \n",
    "        y el intervalo unidad\"\"\"\n",
    "    return (z-a)/(b-a)\n",
    "\n",
    "def dFinv(z,a,b):\n",
    "    \"\"\" derivada de la afinidad Finv\"\"\"\n",
    "    return 1/(b-a)"
   ]
  },
  {
   "cell_type": "code",
   "execution_count": 4,
   "metadata": {},
   "outputs": [],
   "source": [
    "def wi0(z,x,i):\n",
    "    \"\"\"funciones de base del E.F. de Hermite P3 unidimensional \n",
    "    que controlan el valor de la función\"\"\"\n",
    "    if (x[i-1]<=z)*(z<=x[i]):\n",
    "        valor = lh1(Finv(z,x[i-1],x[i]))\n",
    "    elif (x[i]<=z)*(z<=x[i+1]):\n",
    "        valor = lh3(Finv(z,x[i-1],x[i]))\n",
    "    return valor\n",
    "\n",
    "def wi1(z,x,i):\n",
    "    \"\"\"funciones de base del E.F. de Hermite P3 unidimensional\n",
    "    que controlan la derivada\"\"\"\n",
    "    if (x[i-1]<=z)*(z<=x[i]):\n",
    "        valor = lh2(Finv(z,x[i-1],x[i]))*(x[i]-x[i-1])\n",
    "    elif (x[i]<=z)*(z<=x[i+1]):\n",
    "        valor = lh4(Finv(z,x[i-1],x[i]))*(x[i]-x[i-1])\n",
    "    return valor\n",
    "\n",
    "def w00(z,x,i):\n",
    "    \"\"\"función de base del E.F. de Hermite P3 unidimensional \n",
    "    para el valor de la función en el extremo izquierdo\"\"\"\n",
    "    if (x[0]<=z)*(z<=x[1]):\n",
    "        return lh3(Finv(z,x[i-1],x[i]))\n",
    "    else:\n",
    "        return 0\n",
    "\n",
    "def w01(z,x,i):\n",
    "    \"\"\"función de base del E.F. de Hermite P3 unidimensional \n",
    "    para la derivada de la función en el extremo izquierdo\"\"\"\n",
    "    if (x[0]<=z)*(z<=x[1]):\n",
    "        return lh4(Finv(z,x[i-1],x[i]))*(x[i]-x[i-1])\n",
    "    else:\n",
    "        return 0\n",
    "\n",
    "def wn0(z,x,i):\n",
    "    \"\"\"funciones de base del E.F. de Hermite P3 unidimensional\n",
    "    para el valor de la función en el extremo derecho\"\"\"\n",
    "    if (x[i-1]<=z)*(z<=x[i]):\n",
    "        lh1(Finv(z,x[i-1],x[i]))\n",
    "    else:\n",
    "        return 0\n",
    "    \n",
    "def wn1(z,x,i):\n",
    "    \"\"\"funciones de base del E.F. de Hermite P3 unidimensional\n",
    "    para la derivada de la función en el extremo derecho\"\"\"\n",
    "    if (x[i-1]<=z)*(z<=x[i]):\n",
    "        lh2(Finv(z,x[i-1],x[i]))\n",
    "    else:\n",
    "        return 0"
   ]
  },
  {
   "cell_type": "code",
   "execution_count": 6,
   "metadata": {},
   "outputs": [],
   "source": [
    "a = 0;   b = 10; \n",
    "\n",
    "nx= 10;      x = np.linspace(a,b,nx+1);\n",
    "nxx = 1000;  xx = np.linspace(a,b,nxx);            "
   ]
  },
  {
   "cell_type": "markdown",
   "metadata": {},
   "source": [
    "## Ejercicio 2. Matriz de rigidez"
   ]
  },
  {
   "cell_type": "code",
   "execution_count": 15,
   "metadata": {},
   "outputs": [
    {
     "data": {
      "text/latex": [
       "$\\displaystyle \\left[\\begin{matrix}\\frac{12}{h_{k}^{3}} & \\frac{6}{h_{k}^{3}} & - \\frac{12}{h_{k}^{3}} & \\frac{6}{h_{k}^{3}}\\\\\\frac{6}{h_{k}^{3}} & \\frac{4}{h_{k}^{3}} & - \\frac{6}{h_{k}^{3}} & \\frac{2}{h_{k}^{3}}\\\\- \\frac{12}{h_{k}^{3}} & - \\frac{6}{h_{k}^{3}} & \\frac{12}{h_{k}^{3}} & - \\frac{6}{h_{k}^{3}}\\\\\\frac{6}{h_{k}^{3}} & \\frac{2}{h_{k}^{3}} & - \\frac{6}{h_{k}^{3}} & \\frac{4}{h_{k}^{3}}\\end{matrix}\\right]$"
      ],
      "text/plain": [
       "Matrix([\n",
       "[ 12/h_k**3,  6/h_k**3, -12/h_k**3,  6/h_k**3],\n",
       "[  6/h_k**3,  4/h_k**3,  -6/h_k**3,  2/h_k**3],\n",
       "[-12/h_k**3, -6/h_k**3,  12/h_k**3, -6/h_k**3],\n",
       "[  6/h_k**3,  2/h_k**3,  -6/h_k**3,  4/h_k**3]])"
      ]
     },
     "execution_count": 15,
     "metadata": {},
     "output_type": "execute_result"
    }
   ],
   "source": [
    "func_base = [lh1,lh2,lh3,lh4]\n",
    "Rk = [ \n",
    "        [ sp.integrate(sp.diff(p_i(Finv(z,xL,xR)),z,2)*sp.diff(p_j(Finv(z,xL,xR)),z,2),[z,xL,xR]) \n",
    "         for p_j in func_base ]\n",
    "        for p_i in func_base\n",
    "    ]\n",
    "\n",
    "Rk = sp.simplify( sp.Matrix(Rk) )\n",
    "Rk.subs({xL:0,xR:sp.Symbol('h_k')})"
   ]
  },
  {
   "cell_type": "markdown",
   "metadata": {},
   "source": [
    "## Ejercicio 3. Vector de cargas"
   ]
  },
  {
   "cell_type": "code",
   "execution_count": 20,
   "metadata": {},
   "outputs": [
    {
     "data": {
      "text/latex": [
       "$\\displaystyle \\left[\\begin{matrix}\\frac{C h_{k}}{2}\\\\\\frac{C h_{k}}{12}\\\\\\frac{C h_{k}}{2}\\\\- \\frac{C h_{k}}{12}\\end{matrix}\\right]$"
      ],
      "text/plain": [
       "Matrix([\n",
       "[  C*h_k/2],\n",
       "[ C*h_k/12],\n",
       "[  C*h_k/2],\n",
       "[-C*h_k/12]])"
      ]
     },
     "execution_count": 20,
     "metadata": {},
     "output_type": "execute_result"
    }
   ],
   "source": [
    "C = sp.Symbol('C')\n",
    "dk = sp.simplify(sp.Matrix([ C*sp.integrate(p_i(Finv(z,xL,xR)),[z,xL,xR]) \n",
    "                             for p_i in func_base]\n",
    "                          ))\n",
    "dk.subs({xL:0,xR:sp.Symbol('h_k')})"
   ]
  }
 ],
 "metadata": {
  "kernelspec": {
   "display_name": "Python 3",
   "language": "python",
   "name": "python3"
  },
  "language_info": {
   "codemirror_mode": {
    "name": "ipython",
    "version": 3
   },
   "file_extension": ".py",
   "mimetype": "text/x-python",
   "name": "python",
   "nbconvert_exporter": "python",
   "pygments_lexer": "ipython3",
   "version": "3.8.5"
  }
 },
 "nbformat": 4,
 "nbformat_minor": 4
}
